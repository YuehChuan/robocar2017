{
 "cells": [
  {
   "cell_type": "markdown",
   "metadata": {
    "collapsed": true,
    "deletable": true,
    "editable": true
   },
   "source": [
    "# Behavioral Cloning With MXNet\n",
    "\n",
    "This notebook walks through how we can create a model to predict the streeting angle from an image captured through the Pi camera of a robocar. For details on how to build the car itself visit www.donkeycar.com\n",
    "\n",
    "The images have been captured data from the camera mounted over the car. Each image is captured with the the throttle data and the steering angle. We construct a Convolutional Neural Network (CNN) to mimic the behavior of the training data and predict the steering angle given an image.\n",
    "\n",
    "\n",
    "# Download the RecordIO files which have the image data\n",
    "\n",
    "For ease of use I have already converted the image dataset with labels in to MXNet RecordIO format and split in to train and test sets"
   ]
  },
  {
   "cell_type": "code",
   "execution_count": null,
   "metadata": {
    "collapsed": true
   },
   "outputs": [],
   "source": [
    "!wget https://s3.amazonaws.com/smallya-test/mxnet-behavioral-cloning/train.rec\n",
    "\n",
    "!wget https://s3.amazonaws.com/smallya-test/mxnet-behavioral-cloning/valid.rec"
   ]
  },
  {
   "cell_type": "code",
   "execution_count": 3,
   "metadata": {
    "collapsed": true,
    "deletable": true,
    "editable": true
   },
   "outputs": [],
   "source": [
    "import mxnet as mx\n",
    "import numpy as np\n",
    "\n",
    "import logging\n",
    "head = '%(asctime)-15s %(message)s'\n",
    "logging.basicConfig(level=logging.DEBUG, format=head)\n",
    "\n",
    "#load \n",
    "def get_iterators(batch_size, data_shape=(3, 120, 160)):\n",
    "    train = mx.io.ImageRecordIter(\n",
    "        path_imgrec         = 'train.rec', \n",
    "        data_name           = 'data',\n",
    "        label_name          = 'softmax_label',\n",
    "        batch_size          = batch_size,\n",
    "        data_shape          = data_shape,\n",
    "        shuffle             = True,\n",
    "        rand_crop           = True,\n",
    "        rand_mirror         = True)\n",
    "    val = mx.io.ImageRecordIter(\n",
    "        path_imgrec         = 'valid.rec',\n",
    "        data_name           = 'data',\n",
    "        label_name          = 'softmax_label',\n",
    "        batch_size          = batch_size,\n",
    "        data_shape          = data_shape,\n",
    "        rand_crop           = False,\n",
    "        rand_mirror         = False)\n",
    "    return (train, val)\n",
    "\n",
    "batch_size = 16\n",
    "train_iter, val_iter = get_iterators(batch_size)"
   ]
  },
  {
   "cell_type": "markdown",
   "metadata": {
    "collapsed": true,
    "deletable": true,
    "editable": true
   },
   "source": [
    "# Define the model"
   ]
  },
  {
   "cell_type": "code",
   "execution_count": 4,
   "metadata": {
    "collapsed": true,
    "deletable": true,
    "editable": true
   },
   "outputs": [],
   "source": [
    "data = mx.symbol.Variable(name=\"data\")\n",
    "\n",
    "body = mx.sym.Convolution(data=data, num_filter=24,  kernel=(5, 5), stride=(2,2), no_bias=True, name=\"conv1\")\n",
    "body = mx.sym.Activation(data=body, act_type='relu', name='relu1')\n",
    "body = mx.symbol.Pooling(data=body, kernel=(2, 2), stride=(2,2), pool_type='max')\n",
    "\n",
    "body = mx.sym.Convolution(data=data, num_filter=32,  kernel=(5, 5), stride=(2,2), no_bias=True, name=\"conv2\")\n",
    "body = mx.sym.Activation(data=body, act_type='relu', name='relu2')\n",
    "body = mx.symbol.Pooling(data=body, kernel=(2, 2), stride=(2,2), pool_type='max')\n",
    "\n",
    "body = mx.sym.Convolution(data=data, num_filter=32,  kernel=(5, 5), stride=(2,2), no_bias=True, name=\"conv3\")\n",
    "body = mx.sym.Activation(data=body, act_type='relu', name='relu3')\n",
    "body = mx.symbol.Pooling(data=body, kernel=(2, 2), stride=(2,2), pool_type='max')\n",
    "  \n",
    "flatten = mx.symbol.Flatten(data=body)\n",
    "#body = mx.sym.Dropout(data=body, p=0.1)\n",
    "\n",
    "body = mx.symbol.FullyConnected(data=flatten, name='fc0', num_hidden=32)\n",
    "body = mx.sym.Activation(data=body, act_type='relu', name='relu6')\n",
    "body = mx.sym.Dropout(data=body, p=0.1)\n",
    "\n",
    "body = mx.symbol.FullyConnected(data=body, name='fc1', num_hidden=16)\n",
    "body = mx.sym.Activation(data=body, act_type='relu', name='relu7')\n",
    "\n",
    "out = mx.symbol.FullyConnected(data=body, name='fc2', num_hidden=1)\n",
    "out = mx.symbol.LinearRegressionOutput(data=out, name=\"softmax\")"
   ]
  },
  {
   "cell_type": "code",
   "execution_count": 5,
   "metadata": {
    "collapsed": false,
    "deletable": true,
    "editable": true
   },
   "outputs": [
    {
     "data": {
      "image/svg+xml": [
       "<?xml version=\"1.0\" encoding=\"UTF-8\" standalone=\"no\"?>\n",
       "<!DOCTYPE svg PUBLIC \"-//W3C//DTD SVG 1.1//EN\"\n",
       " \"http://www.w3.org/Graphics/SVG/1.1/DTD/svg11.dtd\">\n",
       "<!-- Generated by graphviz version 2.36.0 (20140111.2315)\n",
       " -->\n",
       "<!-- Title: plot Pages: 1 -->\n",
       "<svg width=\"214pt\" height=\"1276pt\"\n",
       " viewBox=\"0.00 0.00 214.00 1276.00\" xmlns=\"http://www.w3.org/2000/svg\" xmlns:xlink=\"http://www.w3.org/1999/xlink\">\n",
       "<g id=\"graph0\" class=\"graph\" transform=\"scale(1 1) rotate(0) translate(4 1272)\">\n",
       "<title>plot</title>\n",
       "<polygon fill=\"white\" stroke=\"none\" points=\"-4,4 -4,-1272 210,-1272 210,4 -4,4\"/>\n",
       "<!-- data -->\n",
       "<g id=\"node1\" class=\"node\"><title>data</title>\n",
       "<ellipse fill=\"#8dd3c7\" stroke=\"black\" cx=\"47\" cy=\"-29\" rx=\"47\" ry=\"29\"/>\n",
       "<text text-anchor=\"middle\" x=\"47\" y=\"-25.3\" font-family=\"Times,serif\" font-size=\"14.00\">data</text>\n",
       "</g>\n",
       "<!-- conv3 -->\n",
       "<g id=\"node2\" class=\"node\"><title>conv3</title>\n",
       "<polygon fill=\"#fb8072\" stroke=\"black\" points=\"94,-168 -7.10543e-15,-168 -7.10543e-15,-110 94,-110 94,-168\"/>\n",
       "<text text-anchor=\"middle\" x=\"47\" y=\"-142.8\" font-family=\"Times,serif\" font-size=\"14.00\">Convolution</text>\n",
       "<text text-anchor=\"middle\" x=\"47\" y=\"-127.8\" font-family=\"Times,serif\" font-size=\"14.00\">5x5/2x2, 32</text>\n",
       "</g>\n",
       "<!-- conv3&#45;&gt;data -->\n",
       "<g id=\"edge1\" class=\"edge\"><title>conv3&#45;&gt;data</title>\n",
       "<path fill=\"none\" stroke=\"black\" d=\"M47,-99.8131C47,-86.1516 47,-71.0092 47,-58.3283\"/>\n",
       "<polygon fill=\"black\" stroke=\"black\" points=\"47,-109.906 42.5001,-99.9062 47,-104.906 47.0001,-99.9062 47.0001,-99.9062 47.0001,-99.9062 47,-104.906 51.5001,-99.9062 47,-109.906 47,-109.906\"/>\n",
       "<text text-anchor=\"middle\" x=\"77.5\" y=\"-80.3\" font-family=\"Times,serif\" font-size=\"14.00\">1x120x160</text>\n",
       "</g>\n",
       "<!-- relu3 -->\n",
       "<g id=\"node3\" class=\"node\"><title>relu3</title>\n",
       "<polygon fill=\"#ffffb3\" stroke=\"black\" points=\"94,-278 -7.10543e-15,-278 -7.10543e-15,-220 94,-220 94,-278\"/>\n",
       "<text text-anchor=\"middle\" x=\"47\" y=\"-252.8\" font-family=\"Times,serif\" font-size=\"14.00\">Activation</text>\n",
       "<text text-anchor=\"middle\" x=\"47\" y=\"-237.8\" font-family=\"Times,serif\" font-size=\"14.00\">relu</text>\n",
       "</g>\n",
       "<!-- relu3&#45;&gt;conv3 -->\n",
       "<g id=\"edge2\" class=\"edge\"><title>relu3&#45;&gt;conv3</title>\n",
       "<path fill=\"none\" stroke=\"black\" d=\"M47,-209.813C47,-196.152 47,-181.009 47,-168.328\"/>\n",
       "<polygon fill=\"black\" stroke=\"black\" points=\"47,-219.906 42.5001,-209.906 47,-214.906 47.0001,-209.906 47.0001,-209.906 47.0001,-209.906 47,-214.906 51.5001,-209.906 47,-219.906 47,-219.906\"/>\n",
       "<text text-anchor=\"middle\" x=\"74.5\" y=\"-190.3\" font-family=\"Times,serif\" font-size=\"14.00\">32x58x78</text>\n",
       "</g>\n",
       "<!-- pooling2 -->\n",
       "<g id=\"node4\" class=\"node\"><title>pooling2</title>\n",
       "<polygon fill=\"#80b1d3\" stroke=\"black\" points=\"94,-388 -7.10543e-15,-388 -7.10543e-15,-330 94,-330 94,-388\"/>\n",
       "<text text-anchor=\"middle\" x=\"47\" y=\"-362.8\" font-family=\"Times,serif\" font-size=\"14.00\">Pooling</text>\n",
       "<text text-anchor=\"middle\" x=\"47\" y=\"-347.8\" font-family=\"Times,serif\" font-size=\"14.00\">max, 2x2/2x2</text>\n",
       "</g>\n",
       "<!-- pooling2&#45;&gt;relu3 -->\n",
       "<g id=\"edge3\" class=\"edge\"><title>pooling2&#45;&gt;relu3</title>\n",
       "<path fill=\"none\" stroke=\"black\" d=\"M47,-319.813C47,-306.152 47,-291.009 47,-278.328\"/>\n",
       "<polygon fill=\"black\" stroke=\"black\" points=\"47,-329.906 42.5001,-319.906 47,-324.906 47.0001,-319.906 47.0001,-319.906 47.0001,-319.906 47,-324.906 51.5001,-319.906 47,-329.906 47,-329.906\"/>\n",
       "<text text-anchor=\"middle\" x=\"74.5\" y=\"-300.3\" font-family=\"Times,serif\" font-size=\"14.00\">32x58x78</text>\n",
       "</g>\n",
       "<!-- flatten0 -->\n",
       "<g id=\"node5\" class=\"node\"><title>flatten0</title>\n",
       "<polygon fill=\"#fdb462\" stroke=\"black\" points=\"94,-498 -7.10543e-15,-498 -7.10543e-15,-440 94,-440 94,-498\"/>\n",
       "<text text-anchor=\"middle\" x=\"47\" y=\"-465.3\" font-family=\"Times,serif\" font-size=\"14.00\">flatten0</text>\n",
       "</g>\n",
       "<!-- flatten0&#45;&gt;pooling2 -->\n",
       "<g id=\"edge4\" class=\"edge\"><title>flatten0&#45;&gt;pooling2</title>\n",
       "<path fill=\"none\" stroke=\"black\" d=\"M47,-429.813C47,-416.152 47,-401.009 47,-388.328\"/>\n",
       "<polygon fill=\"black\" stroke=\"black\" points=\"47,-439.906 42.5001,-429.906 47,-434.906 47.0001,-429.906 47.0001,-429.906 47.0001,-429.906 47,-434.906 51.5001,-429.906 47,-439.906 47,-439.906\"/>\n",
       "<text text-anchor=\"middle\" x=\"74.5\" y=\"-410.3\" font-family=\"Times,serif\" font-size=\"14.00\">32x29x39</text>\n",
       "</g>\n",
       "<!-- fc0 -->\n",
       "<g id=\"node6\" class=\"node\"><title>fc0</title>\n",
       "<polygon fill=\"#fb8072\" stroke=\"black\" points=\"94,-608 -7.10543e-15,-608 -7.10543e-15,-550 94,-550 94,-608\"/>\n",
       "<text text-anchor=\"middle\" x=\"47\" y=\"-582.8\" font-family=\"Times,serif\" font-size=\"14.00\">FullyConnected</text>\n",
       "<text text-anchor=\"middle\" x=\"47\" y=\"-567.8\" font-family=\"Times,serif\" font-size=\"14.00\">32</text>\n",
       "</g>\n",
       "<!-- fc0&#45;&gt;flatten0 -->\n",
       "<g id=\"edge5\" class=\"edge\"><title>fc0&#45;&gt;flatten0</title>\n",
       "<path fill=\"none\" stroke=\"black\" d=\"M47,-539.813C47,-526.152 47,-511.009 47,-498.328\"/>\n",
       "<polygon fill=\"black\" stroke=\"black\" points=\"47,-549.906 42.5001,-539.906 47,-544.906 47.0001,-539.906 47.0001,-539.906 47.0001,-539.906 47,-544.906 51.5001,-539.906 47,-549.906 47,-549.906\"/>\n",
       "<text text-anchor=\"middle\" x=\"64\" y=\"-520.3\" font-family=\"Times,serif\" font-size=\"14.00\">36192</text>\n",
       "</g>\n",
       "<!-- relu6 -->\n",
       "<g id=\"node7\" class=\"node\"><title>relu6</title>\n",
       "<polygon fill=\"#ffffb3\" stroke=\"black\" points=\"94,-718 -7.10543e-15,-718 -7.10543e-15,-660 94,-660 94,-718\"/>\n",
       "<text text-anchor=\"middle\" x=\"47\" y=\"-692.8\" font-family=\"Times,serif\" font-size=\"14.00\">Activation</text>\n",
       "<text text-anchor=\"middle\" x=\"47\" y=\"-677.8\" font-family=\"Times,serif\" font-size=\"14.00\">relu</text>\n",
       "</g>\n",
       "<!-- relu6&#45;&gt;fc0 -->\n",
       "<g id=\"edge6\" class=\"edge\"><title>relu6&#45;&gt;fc0</title>\n",
       "<path fill=\"none\" stroke=\"black\" d=\"M47,-649.813C47,-636.152 47,-621.009 47,-608.328\"/>\n",
       "<polygon fill=\"black\" stroke=\"black\" points=\"47,-659.906 42.5001,-649.906 47,-654.906 47.0001,-649.906 47.0001,-649.906 47.0001,-649.906 47,-654.906 51.5001,-649.906 47,-659.906 47,-659.906\"/>\n",
       "<text text-anchor=\"middle\" x=\"54\" y=\"-630.3\" font-family=\"Times,serif\" font-size=\"14.00\">32</text>\n",
       "</g>\n",
       "<!-- dropout1 -->\n",
       "<g id=\"node8\" class=\"node\"><title>dropout1</title>\n",
       "<polygon fill=\"#fccde5\" stroke=\"black\" points=\"94,-828 -7.10543e-15,-828 -7.10543e-15,-770 94,-770 94,-828\"/>\n",
       "<text text-anchor=\"middle\" x=\"47\" y=\"-795.3\" font-family=\"Times,serif\" font-size=\"14.00\">dropout1</text>\n",
       "</g>\n",
       "<!-- dropout1&#45;&gt;relu6 -->\n",
       "<g id=\"edge7\" class=\"edge\"><title>dropout1&#45;&gt;relu6</title>\n",
       "<path fill=\"none\" stroke=\"black\" d=\"M47,-759.813C47,-746.152 47,-731.009 47,-718.328\"/>\n",
       "<polygon fill=\"black\" stroke=\"black\" points=\"47,-769.906 42.5001,-759.906 47,-764.906 47.0001,-759.906 47.0001,-759.906 47.0001,-759.906 47,-764.906 51.5001,-759.906 47,-769.906 47,-769.906\"/>\n",
       "<text text-anchor=\"middle\" x=\"54\" y=\"-740.3\" font-family=\"Times,serif\" font-size=\"14.00\">32</text>\n",
       "</g>\n",
       "<!-- fc1 -->\n",
       "<g id=\"node9\" class=\"node\"><title>fc1</title>\n",
       "<polygon fill=\"#fb8072\" stroke=\"black\" points=\"94,-938 -7.10543e-15,-938 -7.10543e-15,-880 94,-880 94,-938\"/>\n",
       "<text text-anchor=\"middle\" x=\"47\" y=\"-912.8\" font-family=\"Times,serif\" font-size=\"14.00\">FullyConnected</text>\n",
       "<text text-anchor=\"middle\" x=\"47\" y=\"-897.8\" font-family=\"Times,serif\" font-size=\"14.00\">16</text>\n",
       "</g>\n",
       "<!-- fc1&#45;&gt;dropout1 -->\n",
       "<g id=\"edge8\" class=\"edge\"><title>fc1&#45;&gt;dropout1</title>\n",
       "<path fill=\"none\" stroke=\"black\" d=\"M47,-869.813C47,-856.152 47,-841.009 47,-828.328\"/>\n",
       "<polygon fill=\"black\" stroke=\"black\" points=\"47,-879.906 42.5001,-869.906 47,-874.906 47.0001,-869.906 47.0001,-869.906 47.0001,-869.906 47,-874.906 51.5001,-869.906 47,-879.906 47,-879.906\"/>\n",
       "<text text-anchor=\"middle\" x=\"54\" y=\"-850.3\" font-family=\"Times,serif\" font-size=\"14.00\">32</text>\n",
       "</g>\n",
       "<!-- relu7 -->\n",
       "<g id=\"node10\" class=\"node\"><title>relu7</title>\n",
       "<polygon fill=\"#ffffb3\" stroke=\"black\" points=\"94,-1048 -7.10543e-15,-1048 -7.10543e-15,-990 94,-990 94,-1048\"/>\n",
       "<text text-anchor=\"middle\" x=\"47\" y=\"-1022.8\" font-family=\"Times,serif\" font-size=\"14.00\">Activation</text>\n",
       "<text text-anchor=\"middle\" x=\"47\" y=\"-1007.8\" font-family=\"Times,serif\" font-size=\"14.00\">relu</text>\n",
       "</g>\n",
       "<!-- relu7&#45;&gt;fc1 -->\n",
       "<g id=\"edge9\" class=\"edge\"><title>relu7&#45;&gt;fc1</title>\n",
       "<path fill=\"none\" stroke=\"black\" d=\"M47,-979.813C47,-966.152 47,-951.009 47,-938.328\"/>\n",
       "<polygon fill=\"black\" stroke=\"black\" points=\"47,-989.906 42.5001,-979.906 47,-984.906 47.0001,-979.906 47.0001,-979.906 47.0001,-979.906 47,-984.906 51.5001,-979.906 47,-989.906 47,-989.906\"/>\n",
       "<text text-anchor=\"middle\" x=\"54\" y=\"-960.3\" font-family=\"Times,serif\" font-size=\"14.00\">16</text>\n",
       "</g>\n",
       "<!-- fc2 -->\n",
       "<g id=\"node11\" class=\"node\"><title>fc2</title>\n",
       "<polygon fill=\"#fb8072\" stroke=\"black\" points=\"94,-1158 -7.10543e-15,-1158 -7.10543e-15,-1100 94,-1100 94,-1158\"/>\n",
       "<text text-anchor=\"middle\" x=\"47\" y=\"-1132.8\" font-family=\"Times,serif\" font-size=\"14.00\">FullyConnected</text>\n",
       "<text text-anchor=\"middle\" x=\"47\" y=\"-1117.8\" font-family=\"Times,serif\" font-size=\"14.00\">1</text>\n",
       "</g>\n",
       "<!-- fc2&#45;&gt;relu7 -->\n",
       "<g id=\"edge10\" class=\"edge\"><title>fc2&#45;&gt;relu7</title>\n",
       "<path fill=\"none\" stroke=\"black\" d=\"M47,-1089.81C47,-1076.15 47,-1061.01 47,-1048.33\"/>\n",
       "<polygon fill=\"black\" stroke=\"black\" points=\"47,-1099.91 42.5001,-1089.91 47,-1094.91 47.0001,-1089.91 47.0001,-1089.91 47.0001,-1089.91 47,-1094.91 51.5001,-1089.91 47,-1099.91 47,-1099.91\"/>\n",
       "<text text-anchor=\"middle\" x=\"54\" y=\"-1070.3\" font-family=\"Times,serif\" font-size=\"14.00\">16</text>\n",
       "</g>\n",
       "<!-- softmax_label -->\n",
       "<g id=\"node12\" class=\"node\"><title>softmax_label</title>\n",
       "<ellipse fill=\"#8dd3c7\" stroke=\"black\" cx=\"159\" cy=\"-1129\" rx=\"47\" ry=\"29\"/>\n",
       "<text text-anchor=\"middle\" x=\"159\" y=\"-1125.3\" font-family=\"Times,serif\" font-size=\"14.00\">softmax_label</text>\n",
       "</g>\n",
       "<!-- softmax -->\n",
       "<g id=\"node13\" class=\"node\"><title>softmax</title>\n",
       "<polygon fill=\"#fccde5\" stroke=\"black\" points=\"172,-1268 78,-1268 78,-1210 172,-1210 172,-1268\"/>\n",
       "<text text-anchor=\"middle\" x=\"125\" y=\"-1235.3\" font-family=\"Times,serif\" font-size=\"14.00\">softmax</text>\n",
       "</g>\n",
       "<!-- softmax&#45;&gt;fc2 -->\n",
       "<g id=\"edge11\" class=\"edge\"><title>softmax&#45;&gt;fc2</title>\n",
       "<path fill=\"none\" stroke=\"black\" d=\"M98.5763,-1201.41C88.4144,-1187.34 76.9769,-1171.51 67.4593,-1158.33\"/>\n",
       "<polygon fill=\"black\" stroke=\"black\" points=\"104.71,-1209.91 95.207,-1204.43 101.783,-1205.85 98.8551,-1201.8 98.8551,-1201.8 98.8551,-1201.8 101.783,-1205.85 102.503,-1199.16 104.71,-1209.91 104.71,-1209.91\"/>\n",
       "<text text-anchor=\"middle\" x=\"94.5\" y=\"-1180.3\" font-family=\"Times,serif\" font-size=\"14.00\">1</text>\n",
       "</g>\n",
       "<!-- softmax&#45;&gt;softmax_label -->\n",
       "<g id=\"edge12\" class=\"edge\"><title>softmax&#45;&gt;softmax_label</title>\n",
       "<path fill=\"none\" stroke=\"black\" d=\"M136.945,-1200.06C141.351,-1186.06 146.255,-1170.48 150.318,-1157.58\"/>\n",
       "<polygon fill=\"black\" stroke=\"black\" points=\"133.844,-1209.91 132.555,-1199.02 135.346,-1205.14 136.847,-1200.37 136.847,-1200.37 136.847,-1200.37 135.346,-1205.14 141.14,-1201.72 133.844,-1209.91 133.844,-1209.91\"/>\n",
       "</g>\n",
       "</g>\n",
       "</svg>\n"
      ],
      "text/plain": [
       "<graphviz.dot.Digraph at 0x7f96e52deed0>"
      ]
     },
     "execution_count": 5,
     "metadata": {},
     "output_type": "execute_result"
    }
   ],
   "source": [
    "#(batch_size, NUM_CHANNELS, HEIGHT, WIDTH)\n",
    "shape = {\"data\" : (16, 1, 120, 160)}\n",
    "mx.viz.plot_network(symbol=out, shape=shape)"
   ]
  },
  {
   "cell_type": "code",
   "execution_count": 7,
   "metadata": {
    "collapsed": false,
    "deletable": true,
    "editable": true
   },
   "outputs": [
    {
     "name": "stderr",
     "output_type": "stream",
     "text": [
      "2017-09-22 23:35:44,528 Epoch[0] Batch [100]\tSpeed: 1757.42 samples/sec\tTrain-mae=0.186693\n",
      "2017-09-22 23:35:45,429 Epoch[0] Batch [200]\tSpeed: 889.96 samples/sec\tTrain-mae=0.167489\n",
      "2017-09-22 23:35:45,793 Epoch[0] Batch [300]\tSpeed: 2204.25 samples/sec\tTrain-mae=0.176916\n",
      "2017-09-22 23:35:46,691 Epoch[0] Batch [400]\tSpeed: 892.20 samples/sec\tTrain-mae=0.168915\n",
      "2017-09-22 23:35:47,054 Epoch[0] Batch [500]\tSpeed: 2212.41 samples/sec\tTrain-mae=0.178530\n",
      "2017-09-22 23:35:47,928 Epoch[0] Batch [600]\tSpeed: 915.94 samples/sec\tTrain-mae=0.168207\n",
      "2017-09-22 23:35:48,290 Epoch[0] Batch [700]\tSpeed: 2216.18 samples/sec\tTrain-mae=0.148003\n",
      "2017-09-22 23:35:48,709 Epoch[0] Train-mae=0.146447\n",
      "2017-09-22 23:35:48,710 Epoch[0] Time cost=4.664\n",
      "2017-09-22 23:35:49,028 Epoch[0] Validation-mae=0.127190\n",
      "2017-09-22 23:35:49,888 Epoch[1] Batch [100]\tSpeed: 2223.97 samples/sec\tTrain-mae=0.138936\n",
      "2017-09-22 23:35:50,685 Epoch[1] Batch [200]\tSpeed: 1005.68 samples/sec\tTrain-mae=0.140325\n",
      "2017-09-22 23:35:51,045 Epoch[1] Batch [300]\tSpeed: 2225.83 samples/sec\tTrain-mae=0.134757\n",
      "2017-09-22 23:35:51,844 Epoch[1] Batch [400]\tSpeed: 1002.18 samples/sec\tTrain-mae=0.133883\n",
      "2017-09-22 23:35:52,204 Epoch[1] Batch [500]\tSpeed: 2234.19 samples/sec\tTrain-mae=0.139190\n",
      "2017-09-22 23:35:53,001 Epoch[1] Batch [600]\tSpeed: 1004.86 samples/sec\tTrain-mae=0.127663\n",
      "2017-09-22 23:35:53,359 Epoch[1] Batch [700]\tSpeed: 2239.44 samples/sec\tTrain-mae=0.131797\n",
      "2017-09-22 23:35:53,759 Epoch[1] Train-mae=0.130333\n",
      "2017-09-22 23:35:53,760 Epoch[1] Time cost=4.731\n",
      "2017-09-22 23:35:53,966 Epoch[1] Validation-mae=0.119580\n",
      "2017-09-22 23:35:54,824 Epoch[2] Batch [100]\tSpeed: 2235.53 samples/sec\tTrain-mae=0.127999\n",
      "2017-09-22 23:35:55,618 Epoch[2] Batch [200]\tSpeed: 1008.97 samples/sec\tTrain-mae=0.121700\n",
      "2017-09-22 23:35:55,975 Epoch[2] Batch [300]\tSpeed: 2248.76 samples/sec\tTrain-mae=0.122251\n",
      "2017-09-22 23:35:56,773 Epoch[2] Batch [400]\tSpeed: 1004.32 samples/sec\tTrain-mae=0.126697\n",
      "2017-09-22 23:35:57,130 Epoch[2] Batch [500]\tSpeed: 2242.03 samples/sec\tTrain-mae=0.122332\n",
      "2017-09-22 23:35:57,927 Epoch[2] Batch [600]\tSpeed: 1006.05 samples/sec\tTrain-mae=0.120071\n",
      "2017-09-22 23:35:58,286 Epoch[2] Batch [700]\tSpeed: 2235.77 samples/sec\tTrain-mae=0.118867\n",
      "2017-09-22 23:35:58,687 Epoch[2] Train-mae=0.121152\n",
      "2017-09-22 23:35:58,688 Epoch[2] Time cost=4.721\n",
      "2017-09-22 23:35:58,911 Epoch[2] Validation-mae=0.120319\n",
      "2017-09-22 23:35:59,772 Epoch[3] Batch [100]\tSpeed: 2229.95 samples/sec\tTrain-mae=0.115768\n",
      "2017-09-22 23:36:00,567 Epoch[3] Batch [200]\tSpeed: 1008.24 samples/sec\tTrain-mae=0.115579\n",
      "2017-09-22 23:36:00,925 Epoch[3] Batch [300]\tSpeed: 2239.12 samples/sec\tTrain-mae=0.117437\n",
      "2017-09-22 23:36:01,723 Epoch[3] Batch [400]\tSpeed: 1004.66 samples/sec\tTrain-mae=0.112034\n",
      "2017-09-22 23:36:02,082 Epoch[3] Batch [500]\tSpeed: 2231.73 samples/sec\tTrain-mae=0.115586\n",
      "2017-09-22 23:36:02,881 Epoch[3] Batch [600]\tSpeed: 1002.50 samples/sec\tTrain-mae=0.111651\n",
      "2017-09-22 23:36:03,240 Epoch[3] Batch [700]\tSpeed: 2236.03 samples/sec\tTrain-mae=0.116852\n",
      "2017-09-22 23:36:03,642 Epoch[3] Train-mae=0.112911\n",
      "2017-09-22 23:36:03,643 Epoch[3] Time cost=4.731\n",
      "2017-09-22 23:36:03,860 Epoch[3] Validation-mae=0.115762\n",
      "2017-09-22 23:36:04,720 Epoch[4] Batch [100]\tSpeed: 2223.45 samples/sec\tTrain-mae=0.115465\n",
      "2017-09-22 23:36:05,516 Epoch[4] Batch [200]\tSpeed: 1006.66 samples/sec\tTrain-mae=0.110403\n",
      "2017-09-22 23:36:05,876 Epoch[4] Batch [300]\tSpeed: 2230.59 samples/sec\tTrain-mae=0.108629\n",
      "2017-09-22 23:36:06,674 Epoch[4] Batch [400]\tSpeed: 1003.79 samples/sec\tTrain-mae=0.107518\n",
      "2017-09-22 23:36:07,032 Epoch[4] Batch [500]\tSpeed: 2236.87 samples/sec\tTrain-mae=0.110648\n",
      "2017-09-22 23:36:07,830 Epoch[4] Batch [600]\tSpeed: 1004.85 samples/sec\tTrain-mae=0.111052\n",
      "2017-09-22 23:36:08,189 Epoch[4] Batch [700]\tSpeed: 2229.56 samples/sec\tTrain-mae=0.111304\n",
      "2017-09-22 23:36:08,590 Epoch[4] Train-mae=0.105277\n",
      "2017-09-22 23:36:08,591 Epoch[4] Time cost=4.730\n",
      "2017-09-22 23:36:08,807 Epoch[4] Validation-mae=0.117352\n",
      "2017-09-22 23:36:09,667 Epoch[5] Batch [100]\tSpeed: 2227.56 samples/sec\tTrain-mae=0.103480\n",
      "2017-09-22 23:36:10,462 Epoch[5] Batch [200]\tSpeed: 1007.47 samples/sec\tTrain-mae=0.114593\n",
      "2017-09-22 23:36:10,820 Epoch[5] Batch [300]\tSpeed: 2238.73 samples/sec\tTrain-mae=0.110366\n",
      "2017-09-22 23:36:11,619 Epoch[5] Batch [400]\tSpeed: 1003.14 samples/sec\tTrain-mae=0.104043\n",
      "2017-09-22 23:36:11,977 Epoch[5] Batch [500]\tSpeed: 2240.19 samples/sec\tTrain-mae=0.108297\n",
      "2017-09-22 23:36:12,774 Epoch[5] Batch [600]\tSpeed: 1005.10 samples/sec\tTrain-mae=0.104220\n",
      "2017-09-22 23:36:13,133 Epoch[5] Batch [700]\tSpeed: 2237.80 samples/sec\tTrain-mae=0.106994\n",
      "2017-09-22 23:36:13,534 Epoch[5] Train-mae=0.104638\n",
      "2017-09-22 23:36:13,535 Epoch[5] Time cost=4.726\n",
      "2017-09-22 23:36:13,750 Epoch[5] Validation-mae=0.108711\n",
      "2017-09-22 23:36:14,610 Epoch[6] Batch [100]\tSpeed: 2226.29 samples/sec\tTrain-mae=0.103434\n",
      "2017-09-22 23:36:15,405 Epoch[6] Batch [200]\tSpeed: 1008.76 samples/sec\tTrain-mae=0.102289\n",
      "2017-09-22 23:36:15,764 Epoch[6] Batch [300]\tSpeed: 2233.06 samples/sec\tTrain-mae=0.105568\n",
      "2017-09-22 23:36:16,562 Epoch[6] Batch [400]\tSpeed: 1003.73 samples/sec\tTrain-mae=0.096738\n",
      "2017-09-22 23:36:16,921 Epoch[6] Batch [500]\tSpeed: 2235.05 samples/sec\tTrain-mae=0.102766\n",
      "2017-09-22 23:36:17,717 Epoch[6] Batch [600]\tSpeed: 1006.88 samples/sec\tTrain-mae=0.096796\n",
      "2017-09-22 23:36:18,075 Epoch[6] Batch [700]\tSpeed: 2237.95 samples/sec\tTrain-mae=0.103341\n",
      "2017-09-22 23:36:18,475 Epoch[6] Train-mae=0.103771\n",
      "2017-09-22 23:36:18,476 Epoch[6] Time cost=4.725\n",
      "2017-09-22 23:36:18,692 Epoch[6] Validation-mae=0.105323\n",
      "2017-09-22 23:36:19,551 Epoch[7] Batch [100]\tSpeed: 2231.94 samples/sec\tTrain-mae=0.102943\n",
      "2017-09-22 23:36:20,346 Epoch[7] Batch [200]\tSpeed: 1008.16 samples/sec\tTrain-mae=0.099404\n",
      "2017-09-22 23:36:20,705 Epoch[7] Batch [300]\tSpeed: 2236.69 samples/sec\tTrain-mae=0.095959\n",
      "2017-09-22 23:36:21,502 Epoch[7] Batch [400]\tSpeed: 1005.02 samples/sec\tTrain-mae=0.103891\n",
      "2017-09-22 23:36:21,860 Epoch[7] Batch [500]\tSpeed: 2240.01 samples/sec\tTrain-mae=0.102208\n",
      "2017-09-22 23:36:22,656 Epoch[7] Batch [600]\tSpeed: 1005.84 samples/sec\tTrain-mae=0.097572\n",
      "2017-09-22 23:36:23,015 Epoch[7] Batch [700]\tSpeed: 2235.88 samples/sec\tTrain-mae=0.100980\n",
      "2017-09-22 23:36:23,414 Epoch[7] Train-mae=0.100325\n",
      "2017-09-22 23:36:23,415 Epoch[7] Time cost=4.722\n",
      "2017-09-22 23:36:23,632 Epoch[7] Validation-mae=0.107862\n",
      "2017-09-22 23:36:24,490 Epoch[8] Batch [100]\tSpeed: 2237.15 samples/sec\tTrain-mae=0.099494\n",
      "2017-09-22 23:36:25,286 Epoch[8] Batch [200]\tSpeed: 1006.85 samples/sec\tTrain-mae=0.099026\n",
      "2017-09-22 23:36:25,644 Epoch[8] Batch [300]\tSpeed: 2239.12 samples/sec\tTrain-mae=0.100469\n",
      "2017-09-22 23:36:26,441 Epoch[8] Batch [400]\tSpeed: 1004.49 samples/sec\tTrain-mae=0.095531\n",
      "2017-09-22 23:36:26,800 Epoch[8] Batch [500]\tSpeed: 2238.59 samples/sec\tTrain-mae=0.098263\n",
      "2017-09-22 23:36:27,597 Epoch[8] Batch [600]\tSpeed: 1004.95 samples/sec\tTrain-mae=0.099772\n",
      "2017-09-22 23:36:27,956 Epoch[8] Batch [700]\tSpeed: 2235.82 samples/sec\tTrain-mae=0.098576\n",
      "2017-09-22 23:36:28,355 Epoch[8] Train-mae=0.090750\n",
      "2017-09-22 23:36:28,356 Epoch[8] Time cost=4.724\n",
      "2017-09-22 23:36:28,573 Epoch[8] Validation-mae=0.109459\n",
      "2017-09-22 23:36:29,432 Epoch[9] Batch [100]\tSpeed: 2232.26 samples/sec\tTrain-mae=0.099077\n",
      "2017-09-22 23:36:30,226 Epoch[9] Batch [200]\tSpeed: 1008.29 samples/sec\tTrain-mae=0.097458\n",
      "2017-09-22 23:36:30,584 Epoch[9] Batch [300]\tSpeed: 2243.49 samples/sec\tTrain-mae=0.092332\n",
      "2017-09-22 23:36:31,382 Epoch[9] Batch [400]\tSpeed: 1004.02 samples/sec\tTrain-mae=0.098157\n",
      "2017-09-22 23:36:31,741 Epoch[9] Batch [500]\tSpeed: 2235.44 samples/sec\tTrain-mae=0.094636\n",
      "2017-09-22 23:36:32,537 Epoch[9] Batch [600]\tSpeed: 1006.30 samples/sec\tTrain-mae=0.093751\n",
      "2017-09-22 23:36:32,895 Epoch[9] Batch [700]\tSpeed: 2239.01 samples/sec\tTrain-mae=0.095830\n",
      "2017-09-22 23:36:33,295 Epoch[9] Train-mae=0.091473\n",
      "2017-09-22 23:36:33,296 Epoch[9] Time cost=4.722\n",
      "2017-09-22 23:36:33,513 Epoch[9] Validation-mae=0.105871\n"
     ]
    }
   ],
   "source": [
    "### 2. build a basic model\n",
    "\n",
    "batch_size = 8\n",
    "num_gpus = 1\n",
    "num_epoch = 10\n",
    "mod = mx.mod.Module(out, context=[mx.gpu(i) for i in range(num_gpus)])\n",
    "mod.fit(train_data=train_iter, \n",
    "        eval_data=val_iter, \n",
    "        eval_metric='mae', \n",
    "        optimizer='rmsprop',\n",
    "        optimizer_params={'learning_rate': 0.0009},\n",
    "        num_epoch=num_epoch,\n",
    "        batch_end_callback = mx.callback.Speedometer(batch_size, 100),        \n",
    "       )"
   ]
  },
  {
   "cell_type": "code",
   "execution_count": 8,
   "metadata": {
    "collapsed": true,
    "deletable": true,
    "editable": true
   },
   "outputs": [],
   "source": [
    "# Helper function to convert iterator to list for augmenting data\n",
    "\n",
    "def iter_to_ndarray(data_iter):\n",
    "    '''\n",
    "    @ returns data array and label array\n",
    "    '''\n",
    "    data_iter.reset()\n",
    "\n",
    "    from collections import namedtuple\n",
    "    Batch = namedtuple('Batch', ['data'])\n",
    "\n",
    "    data = []\n",
    "    labels = []\n",
    "    \n",
    "    for it in enumerate(val_iter):\n",
    "        for datum, l in zip(it[1].data[0], it[1].label[0]):\n",
    "            data.append(datum)\n",
    "            labels.append(l)\n",
    "    return data, labels"
   ]
  },
  {
   "cell_type": "code",
   "execution_count": 32,
   "metadata": {
    "collapsed": false,
    "deletable": true,
    "editable": true
   },
   "outputs": [
    {
     "name": "stderr",
     "output_type": "stream",
     "text": [
      "2017-08-02 19:56:53,587 Saved checkpoint to \"my-car-0010.params\"\n"
     ]
    }
   ],
   "source": [
    "# Save the model\n",
    "prefix = 'my-car'\n",
    "mc = mod.save_checkpoint(prefix, num_epoch)"
   ]
  },
  {
   "cell_type": "code",
   "execution_count": 10,
   "metadata": {
    "collapsed": true,
    "deletable": true,
    "editable": true
   },
   "outputs": [],
   "source": [
    "# Load the model ;  \n",
    "\n",
    "sym, arg_params, aux_params = mx.model.load_checkpoint('my-car', num_epoch)\n",
    "mod = mx.mod.Module(symbol=sym)"
   ]
  },
  {
   "cell_type": "code",
   "execution_count": 11,
   "metadata": {
    "collapsed": false,
    "deletable": true,
    "editable": true
   },
   "outputs": [
    {
     "name": "stderr",
     "output_type": "stream",
     "text": [
      "/home/ubuntu/mxnet/python/mxnet/module/base_module.py:64: UserWarning: Data provided by label_shapes don't match names specified by label_names ([] vs. ['softmax_label'])\n",
      "  warnings.warn(msg)\n"
     ]
    }
   ],
   "source": [
    "# Testing the model\n",
    "from PIL import Image\n",
    "import numpy as np\n",
    "\n",
    "dshape = [('data', (1,3,120,160))]\n",
    "mod.bind(for_training=False, data_shapes=dshape)\n",
    "mod.set_params(arg_params, aux_params)"
   ]
  },
  {
   "cell_type": "code",
   "execution_count": 17,
   "metadata": {
    "collapsed": false,
    "deletable": true,
    "editable": true
   },
   "outputs": [
    {
     "name": "stdout",
     "output_type": "stream",
     "text": [
      "expect: 0.11115, pred: 0.03378, diff: 0.07737\n",
      "expect: 0.10741, pred: 0.05245, diff: 0.05495\n",
      "expect: -0.06599, pred: -0.07364, diff: 0.00764\n"
     ]
    },
    {
     "data": {
      "image/png": "[encoded data removed]",
      "text/plain": [
       "<matplotlib.figure.Figure at 0x7f96da7b6790>"
      ]
     },
     "metadata": {},
     "output_type": "display_data"
    }
   ],
   "source": [
    "import numpy as np\n",
    "from PIL import Image\n",
    "from collections import namedtuple\n",
    "Batch = namedtuple('Batch', ['data'])\n",
    "\n",
    "import cv2\n",
    "%matplotlib inline\n",
    "import matplotlib\n",
    "import matplotlib.pyplot as plt\n",
    "\n",
    "imgs = [\n",
    "        'frame_00135_ttl_0.2479085339356424_agl_0.11114842857855993_mil_0.0.jpg',\n",
    "        'frame_00126_ttl_0.25_agl_0.10740846691566244_mil_0.0.jpg',\n",
    "        'frame_00140_ttl_0.25_agl_-0.06599178170093933_mil_0.0.jpg'\n",
    "       ]\n",
    "\n",
    "path = \"./sample_data/\"\n",
    "\n",
    "for i in range(len(imgs)):\n",
    "    \n",
    "    img_loc = path + imgs[i]\n",
    "    \n",
    "    # pre process image\n",
    "    img = Image.open(img_loc)\n",
    "    img = np.array(img)\n",
    "    img = np.swapaxes(img, 0, 2)\n",
    "    img = np.swapaxes(img, 1, 2) \n",
    "    img = img[np.newaxis, :] \n",
    "\n",
    "    mod.forward(Batch(data=[mx.nd.array(img)]))\n",
    "    angle = mod.get_outputs()[0].asnumpy()[0]\n",
    "    exp = float(imgs[i].split('_')[5])\n",
    "    diff = exp - angle[0]\n",
    "    print \"expect: %.5f, pred: %.5f, diff: %.5f\" %(exp , angle[0], diff)\n",
    "    \n",
    "    img = cv2.imread(img_loc)\n",
    "    plt.imshow(cv2.cvtColor(img, cv2.COLOR_BGR2RGB))\n",
    "    plt.axis('off')"
   ]
  },
  {
   "cell_type": "markdown",
   "metadata": {},
   "source": [
    "For more info on the topic: https://medium.com/@ksakmann/behavioral-cloning-make-a-car-drive-like-yourself-dc6021152713"
   ]
  }
 ],
 "metadata": {
  "kernelspec": {
   "display_name": "Python 2",
   "language": "python",
   "name": "python2"
  },
  "language_info": {
   "codemirror_mode": {
    "name": "ipython",
    "version": 2
   },
   "file_extension": ".py",
   "mimetype": "text/x-python",
   "name": "python",
   "nbconvert_exporter": "python",
   "pygments_lexer": "ipython2",
   "version": "2.7.6"
  }
 },
 "nbformat": 4,
 "nbformat_minor": 2
}
